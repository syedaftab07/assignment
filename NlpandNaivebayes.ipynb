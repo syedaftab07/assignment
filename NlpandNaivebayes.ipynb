{
  "nbformat": 4,
  "nbformat_minor": 0,
  "metadata": {
    "colab": {
      "provenance": []
    },
    "kernelspec": {
      "name": "python3",
      "display_name": "Python 3"
    },
    "language_info": {
      "name": "python"
    }
  },
  "cells": [
    {
      "cell_type": "code",
      "source": [
        "import pandas as pd\n",
        "import csv\n",
        "\n",
        "file_path = '/content/blogs.csv'\n",
        "\n",
        "valid_lines = []\n",
        "invalid_lines = []\n",
        "\n",
        "# Read the file line by line and filter valid lines\n",
        "with open(file_path, 'r', encoding='utf-8') as file:\n",
        "    reader = csv.reader(file)\n",
        "    for i, line in enumerate(reader):\n",
        "        if len(line) == 2:  # Assuming there should be exactly 2 fields per line\n",
        "            valid_lines.append(line)\n",
        "        else:\n",
        "            invalid_lines.append((i, line))\n",
        "\n",
        "# Print invalid lines for debugging\n",
        "print(f\"Found {len(invalid_lines)} invalid lines.\")\n",
        "for line_num, line in invalid_lines:\n",
        "    print(f\"Line {line_num}: {line}\")\n",
        "\n",
        "# Create a DataFrame from valid lines\n",
        "df = pd.DataFrame(valid_lines, columns=['Data', 'Labels'])\n",
        "\n",
        "# Display the first few rows of the dataset\n",
        "print(df.head())\n",
        "\n",
        "# Check for any missing values\n",
        "print(df.isnull().sum())\n",
        "\n",
        "# Get basic statistics about the dataset\n",
        "print(df.describe())\n",
        "\n"
      ],
      "metadata": {
        "colab": {
          "base_uri": "https://localhost:8080/"
        },
        "id": "m0MDIj51PmjL",
        "outputId": "5db33bda-7581-4dd8-f1da-19e2c316503c"
      },
      "execution_count": null,
      "outputs": [
        {
          "output_type": "stream",
          "name": "stdout",
          "text": [
            "Found 1 invalid lines.\n",
            "Line 1832: ['Xref: cantaloupe.srv.cs.cmu.edu alt.politics.libertarian:6652 talk.politics.misc:179033 alt.politics.usa.misc:2843\\nNewsgroups: alt.politics.libertarian,talk.politics.misc,alt.politics.usa.misc\\nPath: cantaloupe.srv.cs.cmu.edu!rochester!udel!darwin.sura.net!haven.umd.edu!uunet!infonode!jima.b17d.ingr.com!jwalbea\\nFrom: jwalbea@jima.b17d.ingr.com (Jim Albea)\\nSubject: Re: We\\'re from the government and we\\'re here to help you\\nMessage-ID: <1993Apr23.213057.5207@infonode.ingr.com>\\nSender: usenet@infonode.ingr.com (Usenet Administrator)\\nOrganization: Intergraph Corporation, Huntsville, AL.\\nReferences: <93096.28448.J056600@LMSC5.IS.LMSC.LOCKHEED.COM> <1993Apr8.200326.27560@infonode.ingr.com> <1993Apr18.192508.12442@isc-br.isc-br.com>\\nDate: Fri, 23 Apr 1993 21:30:57 GMT\\nLines: 95\\n\\nIn article <1993Apr18.192508.12442@isc-br.isc-br.com>, steveh@thor.isc-br.com (Steve Hendricks) writes:\\n|> In article <1993Apr8.200326.27560@infonode.ingr.com> albeaj@jima.b17d.ingr.com (Jim Albea) writes:\\n|> >In article <1993Mar24.235606.15959@isc-br.isc-br.com>, steveh@thor.isc-br.com (Steve Hendricks) writes:\\n\\n|> >|> >> Steve proposes a system of checking what other nations are in to\\n|> >|> >> as criteria for what our government should try.\\n\\n|> >|> > I counter that the limits of the constitution might be a better\\n|> >|> > place to check.\\n|> \\n|> >|> Gee, Jim, if you\\'ll check the Constitution you\\'ll find \"in order to...\\n|> >|> promote the general welfare...do ordain and establish this Constitution...\"\\n|> >|> I\\'m surprised you missed it.  It\\'s right there in the first paragraph.  I\\n|> >|> would have thought you would have made it at least through the preamble.\\n|> >\\n|> >You almost got it right, and it was a good try, but you should follow your\\n|> >own advice.  The PREAMBLE to the CONSTITUTION does read as you have quoted\\n|> >but let us not forget that after all it is only the preamble.  It is not\\n|> >a binding part of the Constitution and carries no weight in the law.  That \\n|> >poor tortured paragraph has got to be one of the most unfortunate passages \\n|> >in the English language - witness the legions of blowhards like yourself who\\n|> >think those vague flowery phrases are part of the law of the land.  Do you\\n|> >really believe that a politician only has to give lip service to \"promoting\\n|> >the general welfare\" to be within the limits of the constitution?\\n|> \\n|> Sorry, buddy, but some other \"blowhards\" managed to include the \"general\\n|> welfare\" in another portion of the constitution.\\n|> \\n|> Article I Section 8: \"The Congress shall have the power to lay and collect\\n|> taxes...to pay the debts and provide for the common defence and GENERAL\\n|> WELFARE of the United States...\"\\n|> \\n|> I guess they wanted to make sure everyone understood they meant what they\\n|> said in the preamble.\\n|> \\n|> >Just to make sure you\\'ve got the point, let\\'s do a little experiment.  What\\n|> >if the constitution read as follows?\\n|> >Preamble: We the people, to promote the general Welfare, do ordain\\n|> >          and establish this Constitution for the United States of\\n|> >          America.\\n|> >Constitution:  The Federal Government shall have one function and one\\n|> >               function only - to provide for the defense of the nation.\\n|> >The government would not then have two functions: defense and Welfare.  \\n|> \\n|> But since it explicitly includes both the general welfare and defense\\n|> in Article I, Section 8, I guess you\\'ll grant that botha are constitutional\\n|> functions.  Right?\\n\\nSteve I\\'m glad to see that you abandoned the preamble thing.  What; did\\nyou do a word search to find Welfare somewhere else in the constitution?\\n\\n[my comments and paraphrases in brackets]\\n\\nArticle I Section 8:  [in some ways the guts of the constitution]\\n\\nThe Congress shall have the Power:\\n\\n1. To lay and collect Taxes, Duties, Imposts and Excises, \\n       to pay the Debts [indebtedness as defined in the document]\\n       and provide for the common Defence [Defence as precisely defined]\\n       and general Welfare [as defined through the document, mostly in ways\\n                           [that limit the government.]\\n         of the United States; [but the above taxes shall be uniform through-\\n                               [out the U.S.]\\n\\n    [so far the congress has been given the power to collect taxes uniformly]\\n\\n    [ then ... ]\\n\\n2.  To borrow Money [...]\\n3.  To regulate Commerce with foreign Nations, [interstate and Indian tribes]\\n4.  To [do uniform Naturalization and Bankruptci']\n",
            "                                                Data       Labels\n",
            "0                                               Data       Labels\n",
            "1  Path: cantaloupe.srv.cs.cmu.edu!magnesium.club...  alt.atheism\n",
            "2  Newsgroups: alt.atheism\\nPath: cantaloupe.srv....  alt.atheism\n",
            "3  Path: cantaloupe.srv.cs.cmu.edu!das-news.harva...  alt.atheism\n",
            "4  Path: cantaloupe.srv.cs.cmu.edu!magnesium.club...  alt.atheism\n",
            "Data      0\n",
            "Labels    0\n",
            "dtype: int64\n",
            "        Data              Labels\n",
            "count   1832                1832\n",
            "unique  1832                  20\n",
            "top     Data  rec.sport.baseball\n",
            "freq       1                 100\n"
          ]
        }
      ]
    },
    {
      "cell_type": "code",
      "source": [
        "import re\n",
        "import nltk\n",
        "from nltk.corpus import stopwords\n",
        "from nltk.tokenize import word_tokenize\n",
        "from sklearn.feature_extraction.text import TfidfVectorizer\n",
        "\n",
        "# Download stopwords\n",
        "nltk.download('stopwords')\n",
        "nltk.download('punkt')\n",
        "\n",
        "# Preprocessing function\n",
        "def preprocess_text(text):\n",
        "    # Remove punctuation and numbers\n",
        "    text = re.sub(r'[^\\w\\s]', '', text)\n",
        "    text = re.sub(r'\\d+', '', text)\n",
        "    # Convert to lowercase\n",
        "    text = text.lower()\n",
        "    # Tokenize the text\n",
        "    tokens = word_tokenize(text)\n",
        "    # Remove stopwords\n",
        "    tokens = [word for word in tokens if word not in stopwords.words('english')]\n",
        "    return ' '.join(tokens)\n",
        "\n",
        "# Apply the preprocessing function to the 'Data' column\n",
        "df['Processed_Data'] = df['Data'].apply(preprocess_text)\n",
        "\n",
        "# Display the first few rows of the processed data\n",
        "\n",
        "print(df.head())\n"
      ],
      "metadata": {
        "colab": {
          "base_uri": "https://localhost:8080/"
        },
        "id": "EEiQzMfAQA3T",
        "outputId": "4368adc3-966b-4bf2-a4bf-42c40ce7aeca"
      },
      "execution_count": null,
      "outputs": [
        {
          "output_type": "stream",
          "name": "stderr",
          "text": [
            "[nltk_data] Downloading package stopwords to /root/nltk_data...\n",
            "[nltk_data]   Package stopwords is already up-to-date!\n",
            "[nltk_data] Downloading package punkt to /root/nltk_data...\n",
            "[nltk_data]   Package punkt is already up-to-date!\n"
          ]
        },
        {
          "output_type": "stream",
          "name": "stdout",
          "text": [
            "                                                Data       Labels  \\\n",
            "0                                               Data       Labels   \n",
            "1  Path: cantaloupe.srv.cs.cmu.edu!magnesium.club...  alt.atheism   \n",
            "2  Newsgroups: alt.atheism\\nPath: cantaloupe.srv....  alt.atheism   \n",
            "3  Path: cantaloupe.srv.cs.cmu.edu!das-news.harva...  alt.atheism   \n",
            "4  Path: cantaloupe.srv.cs.cmu.edu!magnesium.club...  alt.atheism   \n",
            "\n",
            "                                      Processed_Data  \n",
            "0                                               data  \n",
            "1  path cantaloupesrvcscmuedumagnesiumclubcccmued...  \n",
            "2  newsgroups altatheism path cantaloupesrvcscmue...  \n",
            "3  path cantaloupesrvcscmuedudasnewsharvardedunoc...  \n",
            "4  path cantaloupesrvcscmuedumagnesiumclubcccmued...  \n"
          ]
        }
      ]
    },
    {
      "cell_type": "code",
      "source": [
        "# Initialize the TF-IDF Vectorizer\n",
        "tfidf_vectorizer = TfidfVectorizer(max_features=5000)\n",
        "\n",
        "# Fit and transform the data\n",
        "X = tfidf_vectorizer.fit_transform(df['Processed_Data'])\n",
        "\n",
        "# Extract the labels\n",
        "y = df['Labels']\n"
      ],
      "metadata": {
        "id": "VYVB3dDcROvi"
      },
      "execution_count": null,
      "outputs": []
    },
    {
      "cell_type": "code",
      "source": [
        "from sklearn.model_selection import train_test_split\n",
        "\n",
        "# Split the data into training and test sets\n",
        "X_train, X_test, y_train, y_test = train_test_split(X, y, test_size=0.2, random_state=42)\n"
      ],
      "metadata": {
        "id": "h9wMno4AR-H5"
      },
      "execution_count": null,
      "outputs": []
    },
    {
      "cell_type": "code",
      "source": [
        "from sklearn.naive_bayes import MultinomialNB\n",
        "from sklearn.metrics import accuracy_score, precision_score, recall_score, f1_score\n",
        "\n",
        "# Initialize the Naive Bayes classifier\n",
        "nb_classifier = MultinomialNB()\n",
        "\n",
        "# Train the model\n",
        "nb_classifier.fit(X_train, y_train)\n",
        "\n",
        "# Make predictions on the test set\n",
        "y_pred = nb_classifier.predict(X_test)\n"
      ],
      "metadata": {
        "id": "nEo4HzGOSGs4"
      },
      "execution_count": null,
      "outputs": []
    },
    {
      "cell_type": "code",
      "source": [
        "from textblob import TextBlob\n",
        "\n",
        "# Function to get sentiment\n",
        "def get_sentiment(text):\n",
        "    analysis = TextBlob(text)\n",
        "    if analysis.sentiment.polarity > 0:\n",
        "        return 'positive'\n",
        "    elif analysis.sentiment.polarity == 0:\n",
        "        return 'neutral'\n",
        "    else:\n",
        "        return 'negative'\n",
        "\n",
        "# Apply the sentiment function to the 'Data' column\n",
        "df['Sentiment'] = df['Data'].apply(get_sentiment)\n",
        "\n",
        "# Display the first few rows with sentiment\n",
        "print(df.head())\n"
      ],
      "metadata": {
        "colab": {
          "base_uri": "https://localhost:8080/"
        },
        "id": "S2lsYs_hSJ4P",
        "outputId": "7a259715-b7da-46dd-8476-2d195acd9280"
      },
      "execution_count": null,
      "outputs": [
        {
          "output_type": "stream",
          "name": "stdout",
          "text": [
            "                                                Data       Labels  \\\n",
            "0                                               Data       Labels   \n",
            "1  Path: cantaloupe.srv.cs.cmu.edu!magnesium.club...  alt.atheism   \n",
            "2  Newsgroups: alt.atheism\\nPath: cantaloupe.srv....  alt.atheism   \n",
            "3  Path: cantaloupe.srv.cs.cmu.edu!das-news.harva...  alt.atheism   \n",
            "4  Path: cantaloupe.srv.cs.cmu.edu!magnesium.club...  alt.atheism   \n",
            "\n",
            "                                      Processed_Data Sentiment  \n",
            "0                                               data   neutral  \n",
            "1  path cantaloupesrvcscmuedumagnesiumclubcccmued...  positive  \n",
            "2  newsgroups altatheism path cantaloupesrvcscmue...  negative  \n",
            "3  path cantaloupesrvcscmuedudasnewsharvardedunoc...  positive  \n",
            "4  path cantaloupesrvcscmuedumagnesiumclubcccmued...  positive  \n"
          ]
        }
      ]
    },
    {
      "cell_type": "code",
      "source": [
        "# Group by category and sentiment\n",
        "sentiment_distribution = df.groupby(['Labels', 'Sentiment']).size().unstack().fillna(0)\n",
        "\n",
        "# Display the sentiment distribution\n",
        "print(sentiment_distribution)\n"
      ],
      "metadata": {
        "colab": {
          "base_uri": "https://localhost:8080/"
        },
        "id": "wUBqy-BlSN_v",
        "outputId": "9c41c225-ada8-4081-b668-cddfd839a773"
      },
      "execution_count": null,
      "outputs": [
        {
          "output_type": "stream",
          "name": "stdout",
          "text": [
            "Sentiment                 negative  neutral  positive\n",
            "Labels                                               \n",
            "Labels                         0.0      1.0       0.0\n",
            "alt.atheism                   23.0      0.0      77.0\n",
            "comp.graphics                 24.0      0.0      76.0\n",
            "comp.os.ms-windows.misc       22.0      0.0      78.0\n",
            "comp.sys.ibm.pc.hardware      20.0      0.0      80.0\n",
            "comp.sys.mac.hardware         24.0      0.0      76.0\n",
            "comp.windows.x                27.0      0.0      73.0\n",
            "misc.forsale                  16.0      0.0      84.0\n",
            "rec.autos                     17.0      0.0      83.0\n",
            "rec.motorcycles               26.0      0.0      74.0\n",
            "rec.sport.baseball            29.0      0.0      71.0\n",
            "rec.sport.hockey              34.0      0.0      66.0\n",
            "sci.crypt                     19.0      0.0      81.0\n",
            "sci.electronics               19.0      0.0      81.0\n",
            "sci.med                       29.0      0.0      71.0\n",
            "sci.space                     27.0      0.0      73.0\n",
            "soc.religion.christian        13.0      0.0      87.0\n",
            "talk.politics.guns            30.0      0.0      70.0\n",
            "talk.politics.mideast         22.0      0.0      78.0\n",
            "talk.politics.misc             7.0      0.0      24.0\n"
          ]
        }
      ]
    },
    {
      "cell_type": "code",
      "source": [
        "# Calculate evaluation metrics\n",
        "accuracy = accuracy_score(y_test, y_pred)\n",
        "precision = precision_score(y_test, y_pred, average='weighted')\n",
        "recall = recall_score(y_test, y_pred, average='weighted')\n",
        "f1 = f1_score(y_test, y_pred, average='weighted')\n",
        "\n",
        "# Display the evaluation metrics\n",
        "print(f'Accuracy: {accuracy}')\n",
        "print(f'Precision: {precision}')\n",
        "print(f'Recall: {recall}')\n",
        "print(f'F1-Score: {f1}')\n"
      ],
      "metadata": {
        "colab": {
          "base_uri": "https://localhost:8080/"
        },
        "id": "U88aqYL2SWcj",
        "outputId": "8660654c-9da4-4a01-b2a3-4875149d596f"
      },
      "execution_count": null,
      "outputs": [
        {
          "output_type": "stream",
          "name": "stdout",
          "text": [
            "Accuracy: 0.8746594005449592\n",
            "Precision: 0.8805225216338421\n",
            "Recall: 0.8746594005449592\n",
            "F1-Score: 0.8712085523393069\n"
          ]
        },
        {
          "output_type": "stream",
          "name": "stderr",
          "text": [
            "/usr/local/lib/python3.10/dist-packages/sklearn/metrics/_classification.py:1344: UndefinedMetricWarning: Precision is ill-defined and being set to 0.0 in labels with no predicted samples. Use `zero_division` parameter to control this behavior.\n",
            "  _warn_prf(average, modifier, msg_start, len(result))\n"
          ]
        }
      ]
    },
    {
      "cell_type": "code",
      "source": [
        "# Summarize the sentiment analysis results\n",
        "sentiment_summary = df.groupby('Sentiment').size()\n",
        "\n",
        "# Display the sentiment summary\n",
        "print(sentiment_summary)\n"
      ],
      "metadata": {
        "colab": {
          "base_uri": "https://localhost:8080/"
        },
        "id": "_M4xIHsUSaHL",
        "outputId": "d429ad70-6988-4c0e-a8eb-4ceafe57711a"
      },
      "execution_count": null,
      "outputs": [
        {
          "output_type": "stream",
          "name": "stdout",
          "text": [
            "Sentiment\n",
            "negative     428\n",
            "neutral        1\n",
            "positive    1403\n",
            "dtype: int64\n"
          ]
        }
      ]
    },
    {
      "cell_type": "markdown",
      "source": [
        "The output suggests sentiment skew towards positive responses, with a minimal occurrence of neutral sentiment and a notable number of negative sentiments."
      ],
      "metadata": {
        "id": "6e3W35aHb1L0"
      }
    },
    {
      "cell_type": "code",
      "source": [],
      "metadata": {
        "id": "BIQjPOk9SfRL"
      },
      "execution_count": null,
      "outputs": []
    }
  ]
}